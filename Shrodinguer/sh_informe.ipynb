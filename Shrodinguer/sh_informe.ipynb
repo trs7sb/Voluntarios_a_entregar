{
 "cells": [
  {
   "cell_type": "markdown",
   "id": "94a22f13",
   "metadata": {},
   "source": [
    "# Resolución de ecuaciones en derivadas parciales: la ecuación de Schrödinger #\n",
    "\n",
    "## Introducción y fundamento ##\n",
    "\n",
    "El objetivo es resolver numéricamente la ecuación de Schrödinger dependiente del tiempo y en una dimensión para estudiar el comportamiento de una partícula descrita por una onda gaussiana al interactuar con una barrera de potencial. Para ello, se discretizan tanto el espacio como el tiempo, transformando la ecuación continua en un sistema de ecuaciones algebraicas. El espacio se divide N+1 puntos con paso $h$ de forma que $x_j=jh$ y el tiempo se discretiza con paso $s$ de forma que $t_n=ns$. \n",
    "Además, se ha impuesto que la función de onda vale cero en los extremos de la red $j=0$, $j=N$.\n",
    "\n",
    "La función de onda inicial que se ha utilizado es una onda plana modelada por una amplitud gaussiana. La posición inicial media y la anchura de la gaussiana tomados son $x_o$ = Nh/4 y $\\sigma$ = Nh/16"
   ]
  },
  {
   "cell_type": "markdown",
   "id": "e1cd927a",
   "metadata": {},
   "source": [
    "\n",
    "\n",
    "Cuando se analiza el movimiento de una partícula en presencia de una barrera de potencial de altura $V_o$ y anchura $a$, existe la posibilidad de que la partícula atraviese el obstáculo, a pesar de que clásicamente su energía sea insuficiente para superar la barrera.\n",
    "\n",
    "En la física clásica, la partícula con energía $E\\leq V_o$  se reflejaría completamente, ya que dentro del intervalo $0 \\leq x \\leq a$ su energía cinética sería negativa.\n",
    "Sin embargo, en mecánica cuántica la función de onda se atenúa de forma exponencial en esta región, lo que significa que existe una probabilidad finita de que la partícula logre atravesar la barrera y emerger al otro lado de la misma.\n",
    "\n",
    "Considerando la siguiente función a trozos del potencial: \n",
    "\n",
    "$V(x) =\n",
    "\\begin{cases}\n",
    "0 & x < 0 \\\\\n",
    "V_o & 0 \\leq x \\leq a \\\\\n",
    "0 & x > a\n",
    "\\end{cases}$\n",
    "\n",
    ", la ecuación de Schrödinger se resuelve por separado en tres regiones. \n",
    "\n",
    "Antes de la barrera $ x < 0$ tenemos que la solución a la ecuación considerando una onda plana la componen la onda incidente y reflejada:\n",
    "\n",
    "   $\\psi_1(x) = A e^{i\\alpha x} + B e^{-i\\alpha x}, \\quad \\alpha = \\sqrt{\\frac{2mE}{\\hbar^2}}$\n",
    "\n",
    "Dentro de la barrera $ 0 < x < a$, en la región clásicamente prohibida, hay una atenuación exponencial:\n",
    "\n",
    "   $\\psi_2(x) = C e^{-k x} + D e^{k x}, \\quad k = \\sqrt{\\frac{2m(V_0 - E)}{\\hbar^2}}$\n",
    "\n",
    "Después de la barrera $x > a $, obtenemos la onda transmitida:\n",
    "\n",
    "   $\\psi_3(x) = E e^{i\\alpha x}$\n",
    "\n",
    "Las condiciones de continuidad de la función de onda y su derivada en $ x = 0$ y $x = a$ permiten relacionar las constantes y calcular el coeficiente de transmisión.\n",
    "\n",
    "\n",
    "\n",
    "El coeficiente de transmisón si $E \\leq V_o$ viene dado por: \n",
    "\n",
    "$T = \\frac{4E(V_o - E)}{4E(V_0 - E) + V_0^2 \\sinh^2(\\alpha a)}$\n",
    "\n",
    "Este resultado muestra cómo la transmisión disminuye rápidamente al aumentar la anchura de la barrera..\n",
    "\n",
    "Si la energía de la partícula supera la altura de la barrera $E > V_o$, la onda dentro de la barrera ya no es exponencial, sino oscilatoria:\n",
    "\n",
    " $\\psi_2(x) = C e^{-ikx} + D e^{ikx}, \\quad k = \\sqrt{\\frac{2m(E - V_0)}{\\hbar^2}}$\n",
    "\n",
    "y el coeficiente de transmisión tiene la expresión:\n",
    "\n",
    "$T = \\frac{4E(E - V_o)}{4E(E - V_o) + V_0^2sen^2(k a)}$\n",
    "\n",
    "\n",
    "El comportamiento oscilatorio de la onda genera picos de transmisión. Cuando la condición de resonancia se cumple $ka = n\\pi$, la transmisión es total $ T = 1$. Esto ocurre cuando la barrera de potencial posee una anchura que es un múltiplo de la longitud de onda de De Broglie de la partícula en el interiro de la barrera:\n",
    "\n",
    "$a = n\\frac{ \\lambda}{2}, \\quad n = 1, 2, 3, \\ldots$\n",
    "\n",
    "Podemos reescribir estas expresiones en función del parámetro $\\lambda=\\frac{V_o}{E}$ que relaciona la altura del potencial con la energía de la onda incidente y el número de oscilaciones de la función de onda $n_{ciclos}$, sabiendo que se relaciona con el número de onda mediante la expresión $k_o=\\frac{2\\pi n_{ciclos}}{N}$. Además, hay que tener en cuenta que la discretización de la barrera de potencial es: \n",
    "\n",
    "$\\tilde{V_j}=\n",
    "\\begin{cases}\n",
    "0 & \\text{si } j \\notin \\left[\\frac{2N}{5}, \\frac{3N}{5} \\right] \\\\\n",
    "\\lambda \\tilde{k_o^2}, & \\text{si } j \\in \\left[\\frac{2N}{5}, \\frac{3N}{5} \\right]\n",
    "\\end{cases}$\n",
    "\n",
    "Teniendo esto en cuenta el número de onda se puede escribir como $k=\\frac{2\\pi}{5}n_{ciclos}\\sqrt{|1-\\lambda|}$ tanto para el caso en el que la energía de la onda es menor que el potencial $\\lambda>1$, o para el caso contrario en el que $\\lambda<1$. \n",
    "\n",
    "Así los coeficientes de transmisión vienen dados por:\n",
    "\n",
    "$T(\\lambda) = \\frac{4(\\lambda-1)}{4(\\lambda -1) + \\lambda^2sinh^2(\\frac{2\\pi}{5}n_{ciclos}\\sqrt{\\lambda -1})}$ para $V_o>E$\n",
    "\n",
    "$T(\\lambda) = \\frac{4(1 -\\lambda)}{4(1-\\lambda) + \\lambda^2sen^2(\\frac{2\\pi}{5}n_{ciclos}\\sqrt{1-\\lambda})}$ para $V_o<E$\n",
    "\n"
   ]
  },
  {
   "cell_type": "markdown",
   "id": "1a47b74a",
   "metadata": {},
   "source": [
    "## Coeficientes de transmisión experimentales y teóricos ##\n",
    "\n",
    "Los valores téoricos de los coeficientes de transmisión calculados a partir de las ecuaciones anteriores en función de $\\lambda$ se encuentran representados en las siguientes gráficas: \n"
   ]
  },
  {
   "cell_type": "markdown",
   "id": "26203322",
   "metadata": {},
   "source": [
    "![Coeficiente de transmisión2](T2.png)"
   ]
  },
  {
   "cell_type": "markdown",
   "id": "6be01026",
   "metadata": {},
   "source": [
    " Cuando $V_0 > E$, es decir, $\\lambda > 1$, la partícula no tiene energía suficiente para superar la barrera clásicamente, pero puede atravesarla por efecto túnel.\n",
    "\n",
    " El término $sinh^2$ crece exponencialmente con $\\sqrt{\\lambda - 1}$ por lo que al aumentar $\\lambda$, la altura de la barrera, disminuye exponencialmente la transmisión.\n",
    "\n",
    "En la siguiente gráfica muestra el caso $E> V_o$ cuando la partícula tiene energía suficiente para cruzar la barrera, pero pueden ocurrir interferencias cuánticas.\n"
   ]
  },
  {
   "cell_type": "markdown",
   "id": "ab1a74fb",
   "metadata": {},
   "source": [
    "![Coeficiente de transmisión2](T1.png)"
   ]
  },
  {
   "cell_type": "markdown",
   "id": "bc2a3652",
   "metadata": {},
   "source": [
    "\n",
    "El término del seno al cuadrado genera oscilaciones periódicas en $T(\\lambda)$, debidas a interferencia constructiva y destructiva.\n",
    "Se observan máximos de transmisión $T = 1$ cuando el argumento del seno es múltiplo de $\\pi$ (resonancias).\n",
    " Cuando $E>>V_o$ ($\\lambda <<1$) el coeficiente de trasmisión tiene asintóticamente a la unidad. \n",
    "\n",
    " Los datos experimentales del coeficiente de transmisión se muestran a continuación. Las gráficas se han realizado para $N=1000$, $h=0,01$, $n_{ciclos}=N/16$ y se ha promedidado el coeficiente de trasmisión para 500 experimentos. \n",
    "\n",
    "La siguiente gráfica muestra los valores del coeficiente de transmisión experimentales en función de la altura del potencial. Como se predice teóricamente para $\\lambda>1$ el coeficiente de transmisión decae a cero para valores de $\\lambda$ mayores que 2, y cuando el potencial es igual a la energía de la onda, existe una cierta probabilidad de encontrar la partícula a la derecha de la barrera (efecto túnel). "
   ]
  },
  {
   "cell_type": "markdown",
   "id": "2a495e2f",
   "metadata": {},
   "source": [
    "![Potencialvslambda](Tvslambda.2png)"
   ]
  },
  {
   "cell_type": "markdown",
   "id": "18e74d91",
   "metadata": {},
   "source": [
    "En la siguiente gráfica se muestran los valores del coeficiente de transmisión obtenidos para $\\lambda<1$. Aunque no se observan las resonancias, los datos parecen seguir la tendencia de la curva teórica, decayendo a una transmisión casi nula conforme $\\lambda$ se acerca a uno. Además, el coeficiente de transmisión converge a la unidad conforme el valor de $\\lambda$ tiende a cero, cuando la energía de la onda es mucho mayor que el potencial. "
   ]
  },
  {
   "cell_type": "markdown",
   "id": "6e5c60e0",
   "metadata": {},
   "source": [
    "![Potencialvslambdamenor1](Tvslambda1.png)"
   ]
  },
  {
   "cell_type": "markdown",
   "id": "f223c417",
   "metadata": {},
   "source": [
    "## Valores esperados de la posición y energía cinética ##\n",
    "\n",
    "A continuación se muestra el valor esperado de la posición y de la energía cinética para $\\lambda=0,3$. \n",
    "Las gráficas se han realizado para $h=0,01$ y $n_{ciclos}=N/16$ con $N=10000$.\n",
    "\n",
    "Los valores esperados se han indicado en color azul claro y los errores, en azul oscuro. \n",
    "\n",
    "Como se observa para un paso de tiempo entre 500 y 750, la onda llega a la pared derecha en (j=1000) y se refleja. \n",
    "Para este valor de tiempo  la curva de la energía cinética ha completado un periodo y la onda volverá a repetir su movimiento, con prácticamente la misma variación en su energía cinética que en la situación inicial. Esto es debido a que gran parte de la onda atraviesa la barrera de potencial  y muy poca se refleja en las paredes de la misma, ya que apenas se ve perturbada por el potencial al tomar $\\lambda$ un valor pequeño. Por tanto, al ser la transmisión muy alta prácticamente toda la onda alcanzará la pared del extremo reflejándose y volviendo a repetir su estado inicial.\n",
    "\n",
    "Las zonas constantes de la energía cinética se producen en los tiempos para los cuales la onda no se encuentra en la región de la barrera situada en el intervalo (2N/5, 3N/5), es decir, entre las posiciones 400 y 600. En caso contrario, al adquirir la misma una energía potencial y como la energía total debe conservarse, el valor esperado de la energía ciéntica presenta una disminución.\n",
    "En este caso, las fluctuaciones en la energía cinética no son grandes debido a que el potencial es mucho menor que la energía de la onda. "
   ]
  },
  {
   "cell_type": "markdown",
   "id": "60856a07",
   "metadata": {},
   "source": [
    "![Valores_esperados](posicionesperada0.3.png)"
   ]
  },
  {
   "cell_type": "markdown",
   "id": "7856b588",
   "metadata": {},
   "source": [
    "![Potencialvslambdamenor1](energia_esperada0.3.png)"
   ]
  },
  {
   "cell_type": "markdown",
   "id": "b15986b0",
   "metadata": {},
   "source": [
    "La siguiente animación muestra la transmisión de la onda para la barrera de $\\lambda=0,3$ para un intervalo temporal de $T=2000$. "
   ]
  },
  {
   "cell_type": "markdown",
   "id": "0d1b802e",
   "metadata": {},
   "source": [
    "<video width=\"480\" height=\"320\" controls autoplay loop>\n",
    "  <source src=\"0,3 final.mp4\" type=\"video/mp4\">"
   ]
  },
  {
   "cell_type": "markdown",
   "id": "7805d37e",
   "metadata": {},
   "source": [
    "Las siguientes gráficas muestran el valor esperado de la posición y de la energía cinética para $\\lambda=1$. El resto de parámetros se han mantenido igual que en las gráficas anteriores. \n",
    "\n",
    "Para este caso, vemos que en un tiempo cercano a 200 gran parte de la onda se refleja en la pared de la barrera de potencial (situada entre las posiciones 400 y 600), y en este instante encontramos una disminución abrupta de su energía cinética. En un tiempo de alrededor de 500, la onda que se ha reflejado en la barrera llega a la pared izquierda invirtiendo su movimiento y vuelve a repetir otra vez el proceso. Así, en el tiempo 800 vuelve a reflejarse otra vez en la barrera, observándose de nuevo una dismininución de la energía cinética.\n",
    "\n",
    "Además, vemos que una componente muy pequeña de la onda nunca llega al extremo derecho de la pared en j=1000, ya que la transmisión es muy baja al ser el potencial igual a la energía de la onda. \n",
    "No obstante, en la animación sí se observa que una fracción pequeña de la onda se transmite, evidenciando el efecto túnel. "
   ]
  },
  {
   "cell_type": "markdown",
   "id": "33ffb024",
   "metadata": {},
   "source": [
    "![Valores_esperados](posiciónesperada1.png)"
   ]
  },
  {
   "cell_type": "markdown",
   "id": "2228ef9d",
   "metadata": {},
   "source": [
    "![Potencialvslambdamenor1](energia_esperada1.png)"
   ]
  },
  {
   "cell_type": "markdown",
   "id": "5ded39c4",
   "metadata": {},
   "source": [
    "La siguiente animación muestra el comportamiento de la función de onda para $\\lambda=1$ con $N=10000$. Aunque las gráficas anteriores se hayan realizado para otro valor de $N$, para una red más grande se observaba mejor la animación, y el comportamiento es análogo. "
   ]
  },
  {
   "cell_type": "markdown",
   "id": "234e8bbc",
   "metadata": {},
   "source": [
    "<video width=\"480\" height=\"320\" controls autoplay loop>\n",
    "  <source src=\"1N10000.mp4\" type=\"video/mp4\">"
   ]
  },
  {
   "cell_type": "markdown",
   "id": "40ba2168",
   "metadata": {},
   "source": [
    "## Cálculo de probabilidades ##\n",
    "\n",
    "En todas las simulaciones, la norma de la función de onda se conserva, ya que la probabilidad total debe conservarse durante la evolución temporal.\n",
    "\n"
   ]
  },
  {
   "cell_type": "markdown",
   "id": "1f2d3e63",
   "metadata": {},
   "source": [
    "![Potencialvslambda](norma_funcion_Onda.png)"
   ]
  },
  {
   "cell_type": "markdown",
   "id": "acdc6e72",
   "metadata": {},
   "source": [
    "Para obtener la probabilidad de detectar la partícula a la derecha de la barrera, se ha calculado en el primer experimento el paso temporal $n_D$ en el que se da el máximo global de probabilidad de detectar la partícula, y se ha dejado evolucionar el resto de experimentos ese número de pasos. La función $P_D(t)$, que mide la probabilidad de detección a la derecha, varía con el tiempo: al principio es casi cero, cuando la onda no ha atravesado la barrera, y luego crece cuando la gaussiana ha atravesado la barrera y entra al detector.\n",
    "\n",
    " El máximo global de $P_D$(t) representa el mejor momento para observar la transmisión a la derecha, es decir, cuando más parte de la onda se encuentra dentro de los límites del detector. Además, ha dejado evolucionar el sistema de manera que la onda no se refleje en la pared derecha, para evitar que la probabilidad crezca si parte de la onda se refleja y así no sobrestimar el coeficiente de transmisión.\n",
    "\n",
    "La probabilidad obtendida en función del tiempo para $\\lambda=0,1$ y $N=1000$ se muestra en la gráfica siguiente. Se observa que el máximo global se da alrededor del tiempo 600."
   ]
  },
  {
   "cell_type": "markdown",
   "id": "31eeb635",
   "metadata": {},
   "source": [
    "![Prob](probabilidad0,1.png)"
   ]
  },
  {
   "cell_type": "markdown",
   "id": "bc977b7d",
   "metadata": {},
   "source": [
    "## Sistema multibarrera ##\n",
    "\n",
    "Se ha estudiado también la transmisión del sistema con n barreras de potencial equiespaciadas, de ancho y separación igual a 200. \n",
    "\n",
    "La siguiente gráfica muestra el coeficiente de transimisión en función del número n de barreras. La simulación se ha realizado para $N=1000$, $h=0,01$, 500 experimentos y $\\lambda=0,3$. Se observa que el coeficiente de transmisión presenta un decaimiento exponencial con el número de barreras, y que se necesita un gran número de las mismas para que la transmisión decaiga a cero, ya que el parámetro $\\lambda$ es muy pequeño. "
   ]
  },
  {
   "cell_type": "markdown",
   "id": "14faafcd",
   "metadata": {},
   "source": [
    "![Multibarrera](exponencial_multibarrera.png)"
   ]
  },
  {
   "cell_type": "markdown",
   "id": "43f244c7",
   "metadata": {},
   "source": [
    "La animación siguiente muestra la trasmisión de la onda al situar 12 barreras con $\\lambda=0,3$. "
   ]
  },
  {
   "cell_type": "markdown",
   "id": "20b30c39",
   "metadata": {},
   "source": [
    "\n",
    "\n",
    "<video width=\"480\" height=\"320\" controls autoplay loop>\n",
    "  <source src=\"12barrera.mp4\" type=\"video/mp4\">\n",
    "\n"
   ]
  },
  {
   "cell_type": "markdown",
   "id": "654cc065",
   "metadata": {},
   "source": [
    "## Cálculo de valores esperados\n",
    "\n",
    "\n",
    "### Media y varianza de la posición\n",
    "\n",
    "El valor medio de la posición, representado por el índice $j$, se obtiene sumando todos los posibles valores de $j$ ponderados por la probabilidad de encontrar la partícula en esa posición, es decir, $|\\psi_j|^2 $, y multiplicando por el paso espacial $h$ (todo esto para un mismo instante de tiempo):\n",
    "\n",
    "$\n",
    "\\langle j \\rangle = \\sum_{j=0}^{N} j \\, |\\psi_j|^2 \\, h\n",
    "$\n",
    "\n",
    "La dispersión de la posición se calcula como la diferencia entre el valor medio del cuadrado de la posición y el cuadrado del valor medio:\n",
    "\n",
    "$\n",
    "\\text{Var}(j) = \\langle j^2 \\rangle - \\langle j \\rangle^2 = \\sum_{j=0}^{N} j^2 \\, |\\psi_j|^2 \\, h\n",
    "$\n",
    "\n",
    "El error de la posición es la raíz cuadrada de la varianza:\n",
    "\n",
    "$\n",
    "\\text{Error}(j) = \\sqrt{\\text{Var}(j)}\n",
    "$\n",
    "\n",
    "### Media y varianza de la energía cinética\n",
    "\n",
    "El operador energía cinética es: \n",
    "\n",
    "$\n",
    "\\hat{T} = \\frac{\\hat{p}^2}{2m} = - \\frac{\\hbar^2}{2m}\\frac{d^2}{dx^2}$\n",
    "\n",
    "En el código $h=1$ y $m=1/2$.\n",
    "\n",
    "\n",
    "El valor medio de la energía cinética se calcula aplicando la segunda derivada  discreta a la función de onda. Si $\\psi_j$ es la función de onda evaluada en el punto $j$, y $h$ el espaciamiento entre puntos de la malla, la derivada segunda centrada se aproxima mediante:\n",
    "\n",
    "$\n",
    "\\left( \\frac{d^2 \\psi}{dx^2} \\right)_j \\approx \\delta^{(2)} \\psi_j = \\frac{1}{h^2} \\left( \\psi_{j+1} - 2\\psi_j + \\psi_{j-1} \\right)\n",
    "$\n",
    "\n",
    "\n",
    "Y la derivada cuarta centrada se escribe como:\n",
    "\n",
    "$\n",
    "\\left( \\frac{d^4 \\psi}{dx^4} \\right)_j \\approx \\delta^{(4)} \\psi_j = \\frac{1}{a^4} \\left( \\psi_{j+2} - 4\\psi_{j+1} + 6\\psi_j - 4\\psi_{j-1} + \\psi_{j-2} \\right)$\n",
    "\n",
    "Por tanto, el valor esperado de la energía cinética será: \n",
    "\n",
    "$\n",
    "\\langle \\hat{T} \\rangle \\approx -\\frac{\\hbar^2}{2m} \\sum_j \\psi_j^* \\, \\delta^{(2)} \\psi_j$\n",
    "\n",
    "Para estimar la varianza de la energía cinética, es necesario calcular el valor medio del operador cinético al cuadrado, lo que implica utilizar la cuarta derivada central discreta:\n",
    "\n",
    "$\n",
    "\\langle \\hat{T}^2 \\rangle \\approx \\left( \\frac{\\hbar^2}{2m} \\right)^2 \\sum_j \\psi_j^* \\, \\delta^{(4)} \\psi_j\n",
    "$\n",
    "\n",
    "La varianza de la energía cinética se obtiene como:\n",
    "\n",
    "$\n",
    "\\text{Var}(T) = \\langle T^2 \\rangle - \\langle T \\rangle^2\n",
    "$\n",
    "\n",
    "y el error correspondiente es su raíz.\n",
    "\n",
    "## Conclusión ##\n",
    "\n",
    "En general, los resultados se adecúan a lo predicho teóricamente, obteniéndose una tendencia experimental del coeficiente de transmisión en función del parámetro $\\lambda$ muy parecida a la teórica tanto para $E<V_o$ como para $E>V_o$, aunque para este último caso no se han observado las oscilaciones del coeficiente de transmisión. \n",
    "\n",
    "Los valores esperados se corresponden con el comportamiento de la función de onda mostrado en las simulaciones para distintos valores del potencial y además se ha obtenido un decaimiento exponencial del coeficiente de transmisión para el sistema multibarrera. "
   ]
  },
  {
   "cell_type": "markdown",
   "id": "9192cfa0",
   "metadata": {},
   "source": [
    "# Bibliografía\n",
    "- Lecture 20: Quantum Tunneling of Electrons MIT OpenCourseWare\n",
    "https://ocw.mit.edu/courses/10-626-electrochemical-energy-systems-spring-2014/21ab97bf1139670415f5338f163d7360_MIT10_626S14_Lec20.pdf\n",
    "- Expresiones de los coeficientes de transmisión.\n",
    "(http://www.sc.ehu.es/sbweb/fisica_/cuantica/principios/tunel/tunel.html)\n"
   ]
  }
 ],
 "metadata": {
  "kernelspec": {
   "display_name": ".conda",
   "language": "python",
   "name": "python3"
  },
  "language_info": {
   "codemirror_mode": {
    "name": "ipython",
    "version": 3
   },
   "file_extension": ".py",
   "mimetype": "text/x-python",
   "name": "python",
   "nbconvert_exporter": "python",
   "pygments_lexer": "ipython3",
   "version": "3.11.11"
  }
 },
 "nbformat": 4,
 "nbformat_minor": 5
}
